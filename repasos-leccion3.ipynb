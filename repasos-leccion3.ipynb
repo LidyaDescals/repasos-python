{
 "cells": [
  {
   "cell_type": "markdown",
   "metadata": {},
   "source": [
    "# **Esquema de repasos**\n",
    "---"
   ]
  },
  {
   "attachments": {},
   "cell_type": "markdown",
   "metadata": {},
   "source": [
    "## **Lección 3: Listas 2**"
   ]
  },
  {
   "attachments": {},
   "cell_type": "markdown",
   "metadata": {},
   "source": [
    "- Los índices siempre empiezan en 0. \n",
    "\n",
    "- Para acceder a los índices de una lista usaremos `[]`. \n",
    "\n",
    "- Usar índices en combinación con la función `len()` para saber cuál es el índice máximo que podemos usar. "
   ]
  },
  {
   "attachments": {},
   "cell_type": "markdown",
   "metadata": {},
   "source": [
    "- Índices negativos para acceder a los elementos de nuestra lista empezando por detrás. \n",
    "\n",
    "- El método `.index(x)` nos permite obtener el primer índice que corresponde al contenido `x`."
   ]
  },
  {
   "attachments": {},
   "cell_type": "markdown",
   "metadata": {},
   "source": [
    "- El index `[:]`: todos los elementos de la lista\n",
    "\n",
    "\n",
    "- El trozo `[x:]`: del elemento x en adelante\n",
    "\n",
    "\n",
    "- El trozo `[:x]`: hasta el elemento x (empezando en el índice 0)\n",
    "\n",
    "\n",
    "- Sacar cada 2º índice con `[::2]`, cada 3º con `[::3]`, etc.\n",
    "\n",
    "\n",
    "- El trozo `[a:b]`: seleccionamos índices desde \"a\" hasta \"b\""
   ]
  },
  {
   "attachments": {},
   "cell_type": "markdown",
   "metadata": {},
   "source": [
    "- La función `sorted()` NO sobreescibe el valor de la lista a diferencia con el método `.sort()`.\n",
    "\n",
    "- Borrar variables con `del`.\n",
    "\n",
    "- Borrar contenido de una lista usando su índice y `del`.\n",
    "\n",
    "- El efecto de borrar contenido a los índices de la lista.\n"
   ]
  },
  {
   "attachments": {},
   "cell_type": "markdown",
   "metadata": {},
   "source": [
    "- Añadir como un solo elemento con `.append()`.\n",
    "\n",
    "- Añadir los elementos de una lista y no la lista como tal  `.extend()`.\n",
    "\n",
    "- Insertar en un índice conocido con `.insert()`.\n",
    "\n",
    "- Quitar y devolver de un índice conocido con `.pop()`.\n",
    "\n",
    "- Quitar sin devolver el primer instante de un contenido conocido con `.remove()`."
   ]
  }
 ],
 "metadata": {
  "kernelspec": {
   "display_name": "Python 3",
   "language": "python",
   "name": "python3"
  },
  "language_info": {
   "name": "python",
   "version": "3.6.9"
  },
  "orig_nbformat": 4,
  "vscode": {
   "interpreter": {
    "hash": "31f2aee4e71d21fbe5cf8b01ff0e069b9275f58929596ceb00d14d90e3e16cd6"
   }
  }
 },
 "nbformat": 4,
 "nbformat_minor": 2
}
