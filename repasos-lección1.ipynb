{
 "cells": [
  {
   "attachments": {},
   "cell_type": "markdown",
   "metadata": {},
   "source": [
    "# **Esquema de repasos**\n",
    "---"
   ]
  },
  {
   "attachments": {},
   "cell_type": "markdown",
   "metadata": {},
   "source": [
    "## **Lección 1: Variables, booleanos, operadores numéricos y binarios**"
   ]
  },
  {
   "attachments": {},
   "cell_type": "markdown",
   "metadata": {},
   "source": [
    "\n",
    "- El contenido de una variable se muestra en el *output* con la función `print()`.\n",
    "\n",
    "\n",
    "- Los tipos de datos de tipo `texto` o `*string*` se pueden definir con comillas simples o dobles, pero nunca sin comillas.\n",
    "\n",
    "\n",
    "- Para encadenar texto se usa `+` o `,`.\n"
   ]
  },
  {
   "attachments": {},
   "cell_type": "markdown",
   "metadata": {},
   "source": [
    "- `Int` son números enteros, positivos o negativos o cero, sin decimales.\n",
    "\n",
    "- `Float` son flotantes, es decir números con una coma.\n",
    "\n",
    "- `Str` son texto.\n",
    "\n",
    "- `Bool` son booleanos, sólo hay `True` y `False`.\n",
    "\n",
    "- Con `type()` puedes comprobar qué tipo de datos es.\n",
    "\n",
    "- Con `isinstance()` puedes comprobar si la variable es de un tipo en específico, como `isinstance(variable,tipo)`."
   ]
  },
  {
   "attachments": {},
   "cell_type": "markdown",
   "metadata": {},
   "source": [
    "- Sumar con `+`.\n",
    "\n",
    "- Restar con `-`.\n",
    "\n",
    "- Multiplicar con `*`.\n",
    "\n",
    "- Elevar a con `**`.\n",
    "\n",
    "- Dividir con `/`.\n",
    "\n",
    "- Dividir y redondear el resultado hacia abajo con `//`.\n",
    "\n",
    "- El resto de una división con `%`.\n",
    "\n",
    "- Redondear con `round()`."
   ]
  },
  {
   "attachments": {},
   "cell_type": "markdown",
   "metadata": {},
   "source": [
    "- Ser igual con `==` o `is`.\n",
    "\n",
    "- Ser distinto con `!=` o `is not`.\n",
    "\n",
    "- Ser menor que (o igual) con `<` (`<=`).\n",
    "\n",
    "- Ser mayor que (o igual) con `>` (`>=`).\n",
    "\n",
    "- Para combinar dos operaciones binarias:\n",
    "\n",
    "    - Ambas verdaderas con `and`.\n",
    "\n",
    "    - Ambas o solo una verdadera con `or`.\n",
    "\n",
    "    - Usa paréntesis  para estructurar la sentencia."
   ]
  },
  {
   "attachments": {},
   "cell_type": "markdown",
   "metadata": {},
   "source": [
    "- Concatenar con `+`.\n",
    "\n",
    "- La función `input()`.\n",
    "\n",
    "- Algunos de los los métodos: `.upper()`, `.lower()`, `.strip()`.\n",
    "\n",
    "- Otros métodos: \n",
    "\n",
    "    - `.split()`: convertir un string en una lista de strings, cortado en cada espacio.\n",
    "\n",
    "    - `.replace()`: reemplazar el substring del primer argumento con el substring del segundo.\n",
    "\n",
    "    - `.join()`: juntar el contenido del iterable del argumento usando el separador a quien le aplicas el método para juntarlos.\n",
    "    \n",
    "    - `.find()`: encontrar el índice en que empiece el substring del argumento. Da '-1' si no existe el substring.\n",
    "\n",
    "- Los métodos disponibles dependen del tipo de la variable.\n",
    "\n",
    "- La forma de escribirlos es `variable.metodo`\n",
    "\n",
    "- Al escribir el punto `.` pegado a un nombre de una variable la tecla `Tab` nos puede listar los métodos que se apliquen a esta variable. Por tanto, no hay que memorizarse los métodos que hay."
   ]
  }
 ],
 "metadata": {
  "kernelspec": {
   "display_name": "Python 3",
   "language": "python",
   "name": "python3"
  },
  "language_info": {
   "codemirror_mode": {
    "name": "ipython",
    "version": 3
   },
   "file_extension": ".py",
   "mimetype": "text/x-python",
   "name": "python",
   "nbconvert_exporter": "python",
   "pygments_lexer": "ipython3",
   "version": "3.6.9"
  },
  "orig_nbformat": 4,
  "vscode": {
   "interpreter": {
    "hash": "31f2aee4e71d21fbe5cf8b01ff0e069b9275f58929596ceb00d14d90e3e16cd6"
   }
  }
 },
 "nbformat": 4,
 "nbformat_minor": 2
}
