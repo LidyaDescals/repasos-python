{
 "cells": [
  {
   "cell_type": "markdown",
   "metadata": {},
   "source": [
    "# **Esquema de repasos**\n",
    "---"
   ]
  },
  {
   "attachments": {},
   "cell_type": "markdown",
   "metadata": {},
   "source": [
    "## **Lección 4: Diccionarios**"
   ]
  },
  {
   "attachments": {},
   "cell_type": "markdown",
   "metadata": {},
   "source": [
    "- Definir diccionarios con `{}` o con `dict()`.\n",
    "\n",
    "- Unir diccionarios con `.update()`.\n",
    "\n",
    "- Usar `dict[clave] = \"nuevo_value\"` para añadir un elemento o sobreescribir el contenido si ya existía la clave."
   ]
  },
  {
   "attachments": {},
   "cell_type": "markdown",
   "metadata": {},
   "source": [
    "- Tamaño del `dict` con la función `len()`.\n",
    "\n",
    "- Comprobar si una clave existe en el `dict` o no con `in` y `not in`.\n",
    "\n",
    "- Los métodos `.keys()`, `.values()`, `.items()`."
   ]
  },
  {
   "attachments": {},
   "cell_type": "markdown",
   "metadata": {},
   "source": [
    "- `get`: nos devuelve el *value*  de la *key* que especifiquemos\n",
    "\n",
    "- `setdefault`: nos devuelve el *value*  de la *key* que especifiquemos, EN CASO DE QUE NO EXISTA NOS LA CREA. \n",
    "\n",
    "- `sorted`: nos ordena por defecto las *keys* del diccionario. También podemos ordenar por los *values* o todo el diccionario\n",
    "\n",
    "- `pop` : eliminamos una *key* dada\n",
    "\n",
    "- `popitem`: elimina el último par de *key* - *value*  del diccionario\n",
    "\n",
    "- `clear` : vacía el diccionario"
   ]
  }
 ],
 "metadata": {
  "kernelspec": {
   "display_name": "Python 3",
   "language": "python",
   "name": "python3"
  },
  "language_info": {
   "name": "python",
   "version": "3.6.9"
  },
  "orig_nbformat": 4,
  "vscode": {
   "interpreter": {
    "hash": "31f2aee4e71d21fbe5cf8b01ff0e069b9275f58929596ceb00d14d90e3e16cd6"
   }
  }
 },
 "nbformat": 4,
 "nbformat_minor": 2
}
