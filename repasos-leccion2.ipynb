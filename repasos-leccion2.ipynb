{
 "cells": [
  {
   "cell_type": "markdown",
   "metadata": {},
   "source": [
    "# **Esquema de repasos**\n",
    "---"
   ]
  },
  {
   "attachments": {},
   "cell_type": "markdown",
   "metadata": {},
   "source": [
    "## **Lección 2: Listas 1**"
   ]
  },
  {
   "attachments": {},
   "cell_type": "markdown",
   "metadata": {},
   "source": [
    "- Definir listas con `[]`.\n",
    "\n",
    "\n",
    "- Convertir algunos tipos de datos a una lista con `list(iterable)`.\n",
    "\n",
    "\n",
    "- Juntar listas con `+`.\n",
    "\n",
    "\n",
    "- Las listas pueden ser creadas vacías, o tener contenido de un sólo tipo, o de múltiples tipos.\n",
    "\n",
    "\n",
    "- Una lista también puede estar compuesta por otras listas."
   ]
  },
  {
   "attachments": {},
   "cell_type": "markdown",
   "metadata": {},
   "source": [
    "- La función `len()` nos devuelve el número de elementos de nuestra lista.\n",
    "\n",
    "- Si la lista sólo tiene un tipo de dato, las funciones `min()` y `max()` devuelve el valor mínimo y máximo. **NOTA**   En el caso de que tengamos una lista de *strings* tendrá el cuenta el orden alfabético. \n",
    "\n",
    "- Con `in` y `not in` podemos comprobar si un valor definido está contenido en la lista o no."
   ]
  },
  {
   "attachments": {},
   "cell_type": "markdown",
   "metadata": {},
   "source": [
    "- Listas son mutables, es decir, podemos eliminar o añadir elementos. \n",
    "\n",
    "- Para guardar el original, `.copy()` nos hace una copia del contenido en una nueva variable.\n",
    "\n",
    "- Con `.clear()` vaciamos nuestra lista de todos los elementos contenidos.\n",
    "\n",
    "- Con `.count(x)` puedes contar cuántas veces está el contenido `x` en la lista.\n",
    "\n",
    "- Con `.reverse()` y `.sort()` cambias el orden de la lista."
   ]
  }
 ],
 "metadata": {
  "kernelspec": {
   "display_name": "Python 3",
   "language": "python",
   "name": "python3"
  },
  "language_info": {
   "name": "python",
   "version": "3.6.9"
  },
  "orig_nbformat": 4,
  "vscode": {
   "interpreter": {
    "hash": "31f2aee4e71d21fbe5cf8b01ff0e069b9275f58929596ceb00d14d90e3e16cd6"
   }
  }
 },
 "nbformat": 4,
 "nbformat_minor": 2
}
